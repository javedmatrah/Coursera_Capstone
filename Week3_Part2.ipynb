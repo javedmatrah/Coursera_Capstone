{
    "cells": [
        {
            "cell_type": "code",
            "execution_count": null,
            "metadata": {},
            "outputs": [],
            "source": ""
        },
        {
            "cell_type": "markdown",
            "metadata": {},
            "source": "## Peer-graded Assignment: Week 3 Part 1 \n### Segmenting and Clustering Neighborhoods in Toronto\n"
        },
        {
            "cell_type": "code",
            "execution_count": 3,
            "metadata": {},
            "outputs": [
                {
                    "name": "stdout",
                    "output_type": "stream",
                    "text": "Solving environment: done\n\n## Package Plan ##\n\n  environment location: /opt/conda/envs/Python36\n\n  added / updated specs: \n    - folium=0.5.0\n\n\nThe following packages will be downloaded:\n\n    package                    |            build\n    ---------------------------|-----------------\n    vincent-0.4.4              |             py_1          28 KB  conda-forge\n    branca-0.3.1               |             py_0          25 KB  conda-forge\n    openssl-1.1.1c             |       h516909a_0         2.1 MB  conda-forge\n    ca-certificates-2019.9.11  |       hecc5488_0         144 KB  conda-forge\n    altair-3.2.0               |           py36_0         770 KB  conda-forge\n    certifi-2019.9.11          |           py36_0         147 KB  conda-forge\n    folium-0.5.0               |             py_0          45 KB  conda-forge\n    ------------------------------------------------------------\n                                           Total:         3.3 MB\n\nThe following NEW packages will be INSTALLED:\n\n    altair:          3.2.0-py36_0      conda-forge\n    branca:          0.3.1-py_0        conda-forge\n    folium:          0.5.0-py_0        conda-forge\n    vincent:         0.4.4-py_1        conda-forge\n\nThe following packages will be UPDATED:\n\n    ca-certificates: 2019.8.28-0                   --> 2019.9.11-hecc5488_0 conda-forge\n    certifi:         2019.9.11-py36_0              --> 2019.9.11-py36_0     conda-forge\n\nThe following packages will be DOWNGRADED:\n\n    openssl:         1.1.1d-h7b6447c_2             --> 1.1.1c-h516909a_0    conda-forge\n\n\nDownloading and Extracting Packages\nvincent-0.4.4        | 28 KB     | ##################################### | 100% \nbranca-0.3.1         | 25 KB     | ##################################### | 100% \nopenssl-1.1.1c       | 2.1 MB    | ##################################### | 100% \nca-certificates-2019 | 144 KB    | ##################################### | 100% \naltair-3.2.0         | 770 KB    | ##################################### | 100% \ncertifi-2019.9.11    | 147 KB    | ##################################### | 100% \nfolium-0.5.0         | 45 KB     | ##################################### | 100% \nPreparing transaction: done\nVerifying transaction: done\nExecuting transaction: done\nLibraries imported.\n"
                }
            ],
            "source": "import numpy as np # library to handle data in a vectorized manner\nimport pandas as pd # library for data analsysis\nfrom pandas import DataFrame\npd.set_option('display.max_columns', None)\npd.set_option('display.max_rows', None)\nimport json # library to handle JSON files\n#!conda install -c conda-forge geopy --yes # uncomment this line if you haven't completed the Foursquare API lab\nfrom geopy.geocoders import Nominatim # convert an address into latitude and longitude values\nimport requests # library to handle requests\nfrom urllib.request import urlopen as uReq\nfrom pandas.io.json import json_normalize # tranform JSON file into a pandas dataframe\n# Matplotlib and associated plotting modules\nimport matplotlib.cm as cm\nimport matplotlib.colors as colors\n# import k-means from clustering stage\nfrom sklearn.cluster import KMeans\nfrom sklearn.datasets.samples_generator import make_blobs\n!conda install -c conda-forge folium=0.5.0 --yes # uncomment this line if you haven't completed the Foursquare API lab\nimport folium # map rendering library\n#!conda install -c anaconda beautifulsoup\nfrom bs4 import BeautifulSoup as bsoup\n#!conda install -c anaconda lxml\nimport lxml\nprint('Libraries imported.')"
        },
        {
            "cell_type": "markdown",
            "metadata": {},
            "source": "### Web scrapping using Beautiful Soup"
        },
        {
            "cell_type": "code",
            "execution_count": 4,
            "metadata": {},
            "outputs": [
                {
                    "data": {
                        "text/plain": "\n\n\nList of postal codes of Canada: M - Wikipedia\ndocument.documentElement.className=\"client-js\";RLCONF={\"wgCanonicalNamespace\":\"\",\"wgCanonicalSpecialPageName\":!1,\"wgNamespaceNumber\":0,\"wgPageName\":\"List_of_postal_codes_of_Canada:_M\",\"wgTitle\":\"List of postal codes of Canada: M\",\"wgCurRevisionId\":920980179,\"wgRevisionId\":920980179,\"wgArticleId\":539066,\"wgIsArticle\":!0,\"wgIsRedirect\":!1,\"wgAction\":\"view\",\"wgUserName\":null,\"wgUserGroups\":[\"*\"],\"wgCategories\":[\"Communications in Ontario\",\"Postal codes in Canada\",\"Toronto\",\"Ontario-related lists\"],\"wgBreakFrames\":!1,\"wgPageContentLanguage\":\"en\",\"wgPageContentModel\":\"wikitext\",\"wgSeparatorTransformTable\":[\"\",\"\"],\"wgDigitTransformTable\":[\"\",\"\"],\"wgDefaultDateFormat\":\"dmy\",\"wgMonthNames\":[\"\",\"January\",\"February\",\"March\",\"April\",\"May\",\"June\",\"July\",\"August\",\"September\",\"October\",\"November\",\"December\"],\"wgMonthNamesShort\":[\"\",\"Jan\",\"Feb\",\"Mar\",\"Apr\",\"May\",\"Jun\",\"Jul\",\"Aug\",\"Sep\",\"Oct\",\"Nov\",\"Dec\"],\"wgRelevantPageName\":\"List_of_postal_codes_of_Canada:_M\",\"wgRelevantArticleId\":539066,\n\"wgRequestId\":\"XcAfOgpAICoAAKjhOXgAAAAQ\",\"wgCSPNonce\":!1,\"wgIsProbablyEditable\":!0,\"wgRelevantPageIsProbablyEditable\":!0,\"wgRestrictionEdit\":[],\"wgRestrictionMove\":[],\"wgMediaViewerOnClick\":!0,\"wgMediaViewerEnabledByDefault\":!0,\"wgPopupsReferencePreviews\":!1,\"wgPopupsConflictsWithNavPopupGadget\":!1,\"wgVisualEditor\":{\"pageLanguageCode\":\"en\",\"pageLanguageDir\":\"ltr\",\"pageVariantFallbacks\":\"en\"},\"wgMFDisplayWikibaseDescriptions\":{\"search\":!0,\"nearby\":!0,\"watchlist\":!0,\"tagline\":!1},\"wgWMESchemaEditAttemptStepOversample\":!1,\"wgULSCurrentAutonym\":\"English\",\"wgNoticeProject\":\"wikipedia\",\"wgWikibaseItemId\":\"Q3248240\",\"wgCentralAuthMobileDomain\":!1,\"wgEditSubmitButtonLabelPublish\":!0};RLSTATE={\"ext.globalCssJs.user.styles\":\"ready\",\"site.styles\":\"ready\",\"noscript\":\"ready\",\"user.styles\":\"ready\",\"ext.globalCssJs.user\":\"ready\",\"user\":\"ready\",\"user.options\":\"ready\",\"user.tokens\":\"loading\",\"ext.cite.styles\":\"ready\",\"mediawiki.legacy.shared\":\"ready\",\n\"mediawiki.legacy.commonPrint\":\"ready\",\"jquery.tablesorter.styles\":\"ready\",\"wikibase.client.init\":\"ready\",\"ext.visualEditor.desktopArticleTarget.noscript\":\"ready\",\"ext.uls.interlanguage\":\"ready\",\"ext.wikimediaBadges\":\"ready\",\"ext.3d.styles\":\"ready\",\"mediawiki.skinning.interface\":\"ready\",\"skins.vector.styles\":\"ready\"};RLPAGEMODULES=[\"ext.cite.ux-enhancements\",\"site\",\"mediawiki.page.startup\",\"mediawiki.page.ready\",\"jquery.tablesorter\",\"mediawiki.searchSuggest\",\"ext.gadget.teahouse\",\"ext.gadget.ReferenceTooltips\",\"ext.gadget.watchlist-notice\",\"ext.gadget.DRN-wizard\",\"ext.gadget.charinsert\",\"ext.gadget.refToolbar\",\"ext.gadget.extra-toolbar-buttons\",\"ext.gadget.switcher\",\"ext.centralauth.centralautologin\",\"mmv.head\",\"mmv.bootstrap.autostart\",\"ext.popups\",\"ext.visualEditor.desktopArticleTarget.init\",\"ext.visualEditor.targetLoader\",\"ext.eventLogging\",\"ext.wikimediaEvents\",\"ext.navigationTiming\",\"ext.uls.compactlinks\",\"ext.uls.interface\",\"ext.cx.eventlogging.campaigns\",\"ext.quicksurveys.init\",\n\"ext.centralNotice.geoIP\",\"ext.centralNotice.startUp\",\"skins.vector.js\"];\n(RLQ=window.RLQ||[]).push(function(){mw.loader.implement(\"user.tokens@tffin\",function($,jQuery,require,module){/*@nomin*/mw.user.tokens.set({\"patrolToken\":\"+\\\\\",\"watchToken\":\"+\\\\\",\"csrfToken\":\"+\\\\\"});\n});});\n\n\n\n\n\n\n\n\n\n\n\n\n\n\n\n\n\n\n\n\n\n\n\n\n\n\n\n\n\nList of postal codes of Canada: M\n\nFrom Wikipedia, the free encyclopedia\n\n\nJump to navigation\nJump to search\nThis is a list of postal codes in Canada where the first letter is M. Postal codes beginning with M are located within the city of Toronto in the province of Ontario. Only the first three characters are listed, corresponding to the Forward Sortation Area.\nCanada Post provides a free postal code look-up tool on its website,[1] via its applications for such smartphones as the iPhone and BlackBerry,[2]  and sells hard-copy directories and CD-ROMs. Many vendors also sell validation tools, which allow customers to properly match addresses and postal codes. Hard-copy directories can also be consulted in all post offices, and some libraries.\n\nToronto - FSAs[edit]\nNote: There are no rural FSAs in Toronto, hence no postal codes should start with M0, however, the postal code M0R 8T0 is assigned to an Amazon (company) warehouse in Mississauga, suggesting that Canada Post may be allocating the M0 FSA for high volume addresses.\n\n\n\nPostcode\nBorough\nNeighbourhood\n\n\nM1A\nNot assigned\nNot assigned\n\n\nM2A\nNot assigned\nNot assigned\n\n\nM3A\nNorth York\nParkwoods\n\n\nM4A\nNorth York\nVictoria Village\n\n\nM5A\nDowntown Toronto\nHarbourfront\n\n\nM5A\nDowntown Toronto\nRegent Park\n\n\nM6A\nNorth York\nLawrence Heights\n\n\nM6A\nNorth York\nLawrence Manor\n\n\nM7A\nQueen's Park\nNot assigned\n\n\nM8A\nNot assigned\nNot assigned\n\n\nM9A\nEtobicoke\nIslington Avenue\n\n\nM1B\nScarborough\nRouge\n\n\nM1B\nScarborough\nMalvern\n\n\nM2B\nNot assigned\nNot assigned\n\n\nM3B\nNorth York\nDon Mills North\n\n\nM4B\nEast York\nWoodbine Gardens\n\n\nM4B\nEast York\nParkview Hill\n\n\nM5B\nDowntown Toronto\nRyerson\n\n\nM5B\nDowntown Toronto\nGarden District\n\n\nM6B\nNorth York\nGlencairn\n\n\nM7B\nNot assigned\nNot assigned\n\n\nM8B\nNot assigned\nNot assigned\n\n\nM9B\nEtobicoke\nCloverdale\n\n\nM9B\nEtobicoke\nIslington\n\n\nM9B\nEtobicoke\nMartin Grove\n\n\nM9B\nEtobicoke\nPrincess Gardens\n\n\nM9B\nEtobicoke\nWest Deane Park\n\n\nM1C\nScarborough\nHighland Creek\n\n\nM1C\nScarborough\nRouge Hill\n\n\nM1C\nScarborough\nPort Union\n\n\nM2C\nNot assigned\nNot assigned\n\n\nM3C\nNorth York\nFlemingdon Park\n\n\nM3C\nNorth York\nDon Mills South\n\n\nM4C\nEast York\nWoodbine Heights\n\n\nM5C\nDowntown Toronto\nSt. James Town\n\n\nM6C\nYork\nHumewood-Cedarvale\n\n\nM7C\nNot assigned\nNot assigned\n\n\nM8C\nNot assigned\nNot assigned\n\n\nM9C\nEtobicoke\nBloordale Gardens\n\n\nM9C\nEtobicoke\nEringate\n\n\nM9C\nEtobicoke\nMarkland Wood\n\n\nM9C\nEtobicoke\nOld Burnhamthorpe\n\n\nM1E\nScarborough\nGuildwood\n\n\nM1E\nScarborough\nMorningside\n\n\nM1E\nScarborough\nWest Hill\n\n\nM2E\nNot assigned\nNot assigned\n\n\nM3E\nNot assigned\nNot assigned\n\n\nM4E\nEast Toronto\nThe Beaches\n\n\nM5E\nDowntown Toronto\nBerczy Park\n\n\nM6E\nYork\nCaledonia-Fairbanks\n\n\nM7E\nNot assigned\nNot assigned\n\n\nM8E\nNot assigned\nNot assigned\n\n\nM9E\nNot assigned\nNot assigned\n\n\nM1G\nScarborough\nWoburn\n\n\nM2G\nNot assigned\nNot assigned\n\n\nM3G\nNot assigned\nNot assigned\n\n\nM4G\nEast York\nLeaside\n\n\nM5G\nDowntown Toronto\nCentral Bay Street\n\n\nM6G\nDowntown Toronto\nChristie\n\n\nM7G\nNot assigned\nNot assigned\n\n\nM8G\nNot assigned\nNot assigned\n\n\nM9G\nNot assigned\nNot assigned\n\n\nM1H\nScarborough\nCedarbrae\n\n\nM2H\nNorth York\nHillcrest Village\n\n\nM3H\nNorth York\nBathurst Manor\n\n\nM3H\nNorth York\nDownsview North\n\n\nM3H\nNorth York\nWilson Heights\n\n\nM4H\nEast York\nThorncliffe Park\n\n\nM5H\nDowntown Toronto\nAdelaide\n\n\nM5H\nDowntown Toronto\nKing\n\n\nM5H\nDowntown Toronto\nRichmond\n\n\nM6H\nWest Toronto\nDovercourt Village\n\n\nM6H\nWest Toronto\nDufferin\n\n\nM7H\nNot assigned\nNot assigned\n\n\nM8H\nNot assigned\nNot assigned\n\n\nM9H\nNot assigned\nNot assigned\n\n\nM1J\nScarborough\nScarborough Village\n\n\nM2J\nNorth York\nFairview\n\n\nM2J\nNorth York\nHenry Farm\n\n\nM2J\nNorth York\nOriole\n\n\nM3J\nNorth York\nNorthwood Park\n\n\nM3J\nNorth York\nYork University\n\n\nM4J\nEast York\nEast Toronto\n\n\nM5J\nDowntown Toronto\nHarbourfront East\n\n\nM5J\nDowntown Toronto\nToronto Islands\n\n\nM5J\nDowntown Toronto\nUnion Station\n\n\nM6J\nWest Toronto\nLittle Portugal\n\n\nM6J\nWest Toronto\nTrinity\n\n\nM7J\nNot assigned\nNot assigned\n\n\nM8J\nNot assigned\nNot assigned\n\n\nM9J\nNot assigned\nNot assigned\n\n\nM1K\nScarborough\nEast Birchmount Park\n\n\nM1K\nScarborough\nIonview\n\n\nM1K\nScarborough\nKennedy Park\n\n\nM2K\nNorth York\nBayview Village\n\n\nM3K\nNorth York\nCFB Toronto\n\n\nM3K\nNorth York\nDownsview East\n\n\nM4K\nEast Toronto\nThe Danforth West\n\n\nM4K\nEast Toronto\nRiverdale\n\n\nM5K\nDowntown Toronto\nDesign Exchange\n\n\nM5K\nDowntown Toronto\nToronto Dominion Centre\n\n\nM6K\nWest Toronto\nBrockton\n\n\nM6K\nWest Toronto\nExhibition Place\n\n\nM6K\nWest Toronto\nParkdale Village\n\n\nM7K\nNot assigned\nNot assigned\n\n\nM8K\nNot assigned\nNot assigned\n\n\nM9K\nNot assigned\nNot assigned\n\n\nM1L\nScarborough\nClairlea\n\n\nM1L\nScarborough\nGolden Mile\n\n\nM1L\nScarborough\nOakridge\n\n\nM2L\nNorth York\nSilver Hills\n\n\nM2L\nNorth York\nYork Mills\n\n\nM3L\nNorth York\nDownsview West\n\n\nM4L\nEast Toronto\nThe Beaches West\n\n\nM4L\nEast Toronto\nIndia Bazaar\n\n\nM5L\nDowntown Toronto\nCommerce Court\n\n\nM5L\nDowntown Toronto\nVictoria Hotel\n\n\nM6L\nNorth York\nDownsview\n\n\nM6L\nNorth York\nNorth Park\n\n\nM6L\nNorth York\nUpwood Park\n\n\nM7L\nNot assigned\nNot assigned\n\n\nM8L\nNot assigned\nNot assigned\n\n\nM9L\nNorth York\nHumber Summit\n\n\nM1M\nScarborough\nCliffcrest\n\n\nM1M\nScarborough\nCliffside\n\n\nM1M\nScarborough\nScarborough Village West\n\n\nM2M\nNorth York\nNewtonbrook\n\n\nM2M\nNorth York\nWillowdale\n\n\nM3M\nNorth York\nDownsview Central\n\n\nM4M\nEast Toronto\nStudio District\n\n\nM5M\nNorth York\nBedford Park\n\n\nM5M\nNorth York\nLawrence Manor East\n\n\nM6M\nYork\nDel Ray\n\n\nM6M\nYork\nKeelesdale\n\n\nM6M\nYork\nMount Dennis\n\n\nM6M\nYork\nSilverthorn\n\n\nM7M\nNot assigned\nNot assigned\n\n\nM8M\nNot assigned\nNot assigned\n\n\nM9M\nNorth York\nEmery\n\n\nM9M\nNorth York\nHumberlea\n\n\nM1N\nScarborough\nBirch Cliff\n\n\nM1N\nScarborough\nCliffside West\n\n\nM2N\nNorth York\nWillowdale South\n\n\nM3N\nNorth York\nDownsview Northwest\n\n\nM4N\nCentral Toronto\nLawrence Park\n\n\nM5N\nCentral Toronto\nRoselawn\n\n\nM6N\nYork\nThe Junction North\n\n\nM6N\nYork\nRunnymede\n\n\nM7N\nNot assigned\nNot assigned\n\n\nM8N\nNot assigned\nNot assigned\n\n\nM9N\nYork\nWeston\n\n\nM1P\nScarborough\nDorset Park\n\n\nM1P\nScarborough\nScarborough Town Centre\n\n\nM1P\nScarborough\nWexford Heights\n\n\nM2P\nNorth York\nYork Mills West\n\n\nM3P\nNot assigned\nNot assigned\n\n\nM4P\nCentral Toronto\nDavisville North\n\n\nM5P\nCentral Toronto\nForest Hill North\n\n\nM5P\nCentral Toronto\nForest Hill West\n\n\nM6P\nWest Toronto\nHigh Park\n\n\nM6P\nWest Toronto\nThe Junction South\n\n\nM7P\nNot assigned\nNot assigned\n\n\nM8P\nNot assigned\nNot assigned\n\n\nM9P\nEtobicoke\nWestmount\n\n\nM1R\nScarborough\nMaryvale\n\n\nM1R\nScarborough\nWexford\n\n\nM2R\nNorth York\nWillowdale West\n\n\nM3R\nNot assigned\nNot assigned\n\n\nM4R\nCentral Toronto\nNorth Toronto West\n\n\nM5R\nCentral Toronto\nThe Annex\n\n\nM5R\nCentral Toronto\nNorth Midtown\n\n\nM5R\nCentral Toronto\nYorkville\n\n\nM6R\nWest Toronto\nParkdale\n\n\nM6R\nWest Toronto\nRoncesvalles\n\n\nM7R\nMississauga\nCanada Post Gateway Processing Centre\n\n\nM8R\nNot assigned\nNot assigned\n\n\nM9R\nEtobicoke\nKingsview Village\n\n\nM9R\nEtobicoke\nMartin Grove Gardens\n\n\nM9R\nEtobicoke\nRichview Gardens\n\n\nM9R\nEtobicoke\nSt. Phillips\n\n\nM1S\nScarborough\nAgincourt\n\n\nM2S\nNot assigned\nNot assigned\n\n\nM3S\nNot assigned\nNot assigned\n\n\nM4S\nCentral Toronto\nDavisville\n\n\nM5S\nDowntown Toronto\nHarbord\n\n\nM5S\nDowntown Toronto\nUniversity of Toronto\n\n\nM6S\nWest Toronto\nRunnymede\n\n\nM6S\nWest Toronto\nSwansea\n\n\nM7S\nNot assigned\nNot assigned\n\n\nM8S\nNot assigned\nNot assigned\n\n\nM9S\nNot assigned\nNot assigned\n\n\nM1T\nScarborough\nClarks Corners\n\n\nM1T\nScarborough\nSullivan\n\n\nM1T\nScarborough\nTam O'Shanter\n\n\nM2T\nNot assigned\nNot assigned\n\n\nM3T\nNot assigned\nNot assigned\n\n\nM4T\nCentral Toronto\nMoore Park\n\n\nM4T\nCentral Toronto\nSummerhill East\n\n\nM5T\nDowntown Toronto\nChinatown\n\n\nM5T\nDowntown Toronto\nGrange Park\n\n\nM5T\nDowntown Toronto\nKensington Market\n\n\nM6T\nNot assigned\nNot assigned\n\n\nM7T\nNot assigned\nNot assigned\n\n\nM8T\nNot assigned\nNot assigned\n\n\nM9T\nNot assigned\nNot assigned\n\n\nM1V\nScarborough\nAgincourt North\n\n\nM1V\nScarborough\nL'Amoreaux East\n\n\nM1V\nScarborough\nMilliken\n\n\nM1V\nScarborough\nSteeles East\n\n\nM2V\nNot assigned\nNot assigned\n\n\nM3V\nNot assigned\nNot assigned\n\n\nM4V\nCentral Toronto\nDeer Park\n\n\nM4V\nCentral Toronto\nForest Hill SE\n\n\nM4V\nCentral Toronto\nRathnelly\n\n\nM4V\nCentral Toronto\nSouth Hill\n\n\nM4V\nCentral Toronto\nSummerhill West\n\n\nM5V\nDowntown Toronto\nCN Tower\n\n\nM5V\nDowntown Toronto\nBathurst Quay\n\n\nM5V\nDowntown Toronto\nIsland airport\n\n\nM5V\nDowntown Toronto\nHarbourfront West\n\n\nM5V\nDowntown Toronto\nKing and Spadina\n\n\nM5V\nDowntown Toronto\nRailway Lands\n\n\nM5V\nDowntown Toronto\nSouth Niagara\n\n\nM6V\nNot assigned\nNot assigned\n\n\nM7V\nNot assigned\nNot assigned\n\n\nM8V\nEtobicoke\nHumber Bay Shores\n\n\nM8V\nEtobicoke\nMimico South\n\n\nM8V\nEtobicoke\nNew Toronto\n\n\nM9V\nEtobicoke\nAlbion Gardens\n\n\nM9V\nEtobicoke\nBeaumond Heights\n\n\nM9V\nEtobicoke\nHumbergate\n\n\nM9V\nEtobicoke\nJamestown\n\n\nM9V\nEtobicoke\nMount Olive\n\n\nM9V\nEtobicoke\nSilverstone\n\n\nM9V\nEtobicoke\nSouth Steeles\n\n\nM9V\nEtobicoke\nThistletown\n\n\nM1W\nScarborough\nL'Amoreaux West\n\n\nM2W\nNot assigned\nNot assigned\n\n\nM3W\nNot assigned\nNot assigned\n\n\nM4W\nDowntown Toronto\nRosedale\n\n\nM5W\nDowntown Toronto\nStn A PO Boxes 25 The Esplanade\n\n\nM6W\nNot assigned\nNot assigned\n\n\nM7W\nNot assigned\nNot assigned\n\n\nM8W\nEtobicoke\nAlderwood\n\n\nM8W\nEtobicoke\nLong Branch\n\n\nM9W\nEtobicoke\nNorthwest\n\n\nM1X\nScarborough\nUpper Rouge\n\n\nM2X\nNot assigned\nNot assigned\n\n\nM3X\nNot assigned\nNot assigned\n\n\nM4X\nDowntown Toronto\nCabbagetown\n\n\nM4X\nDowntown Toronto\nSt. James Town\n\n\nM5X\nDowntown Toronto\nFirst Canadian Place\n\n\nM5X\nDowntown Toronto\nUnderground city\n\n\nM6X\nNot assigned\nNot assigned\n\n\nM7X\nNot assigned\nNot assigned\n\n\nM8X\nEtobicoke\nThe Kingsway\n\n\nM8X\nEtobicoke\nMontgomery Road\n\n\nM8X\nEtobicoke\nOld Mill North\n\n\nM9X\nNot assigned\nNot assigned\n\n\nM1Y\nNot assigned\nNot assigned\n\n\nM2Y\nNot assigned\nNot assigned\n\n\nM3Y\nNot assigned\nNot assigned\n\n\nM4Y\nDowntown Toronto\nChurch and Wellesley\n\n\nM5Y\nNot assigned\nNot assigned\n\n\nM6Y\nNot assigned\nNot assigned\n\n\nM7Y\nEast Toronto\nBusiness Reply Mail Processing Centre 969 Eastern\n\n\nM8Y\nEtobicoke\nHumber Bay\n\n\nM8Y\nEtobicoke\nKing's Mill Park\n\n\nM8Y\nEtobicoke\nKingsway Park South East\n\n\nM8Y\nEtobicoke\nMimico NE\n\n\nM8Y\nEtobicoke\nOld Mill South\n\n\nM8Y\nEtobicoke\nThe Queensway East\n\n\nM8Y\nEtobicoke\nRoyal York South East\n\n\nM8Y\nEtobicoke\nSunnylea\n\n\nM9Y\nNot assigned\nNot assigned\n\n\nM1Z\nNot assigned\nNot assigned\n\n\nM2Z\nNot assigned\nNot assigned\n\n\nM3Z\nNot assigned\nNot assigned\n\n\nM4Z\nNot assigned\nNot assigned\n\n\nM5Z\nNot assigned\nNot assigned\n\n\nM6Z\nNot assigned\nNot assigned\n\n\nM7Z\nNot assigned\nNot assigned\n\n\nM8Z\nEtobicoke\nKingsway Park South West\n\n\nM8Z\nEtobicoke\nMimico NW\n\n\nM8Z\nEtobicoke\nThe Queensway West\n\n\nM8Z\nEtobicoke\nRoyal York South West\n\n\nM8Z\nEtobicoke\nSouth of Bloor\n\n\nM9Z\nNot assigned\nNot assigned\n\n\n\n\nMost populated FSAs[3][edit]M1B, 65,129\nM2N, 60,124\nM1V, 55,250\nM9V, 55,159\nM2J, 54,391\n\n\n\n\nLeast populated FSAs[3][edit]\nM5K, 5\nM5L, 5\nM5W, 5\nM5X, 5\nM7A, 5\n\n\nReferences[edit]\n\n^ \nCanada Post. \"Canada Post - Find a Postal Code\". Retrieved 9 November 2008..mw-parser-output cite.citation{font-style:inherit}.mw-parser-output .citation q{quotes:\"\\\"\"\"\\\"\"\"'\"\"'\"}.mw-parser-output .citation .cs1-lock-free a{background:url(\"//upload.wikimedia.org/wikipedia/commons/thumb/6/65/Lock-green.svg/9px-Lock-green.svg.png\")no-repeat;background-position:right .1em center}.mw-parser-output .citation .cs1-lock-limited a,.mw-parser-output .citation .cs1-lock-registration a{background:url(\"//upload.wikimedia.org/wikipedia/commons/thumb/d/d6/Lock-gray-alt-2.svg/9px-Lock-gray-alt-2.svg.png\")no-repeat;background-position:right .1em center}.mw-parser-output .citation .cs1-lock-subscription a{background:url(\"//upload.wikimedia.org/wikipedia/commons/thumb/a/aa/Lock-red-alt-2.svg/9px-Lock-red-alt-2.svg.png\")no-repeat;background-position:right .1em center}.mw-parser-output .cs1-subscription,.mw-parser-output .cs1-registration{color:#555}.mw-parser-output .cs1-subscription span,.mw-parser-output .cs1-registration span{border-bottom:1px dotted;cursor:help}.mw-parser-output .cs1-ws-icon a{background:url(\"//upload.wikimedia.org/wikipedia/commons/thumb/4/4c/Wikisource-logo.svg/12px-Wikisource-logo.svg.png\")no-repeat;background-position:right .1em center}.mw-parser-output code.cs1-code{color:inherit;background:inherit;border:inherit;padding:inherit}.mw-parser-output .cs1-hidden-error{display:none;font-size:100%}.mw-parser-output .cs1-visible-error{font-size:100%}.mw-parser-output .cs1-maint{display:none;color:#33aa33;margin-left:0.3em}.mw-parser-output .cs1-subscription,.mw-parser-output .cs1-registration,.mw-parser-output .cs1-format{font-size:95%}.mw-parser-output .cs1-kern-left,.mw-parser-output .cs1-kern-wl-left{padding-left:0.2em}.mw-parser-output .cs1-kern-right,.mw-parser-output .cs1-kern-wl-right{padding-right:0.2em}\n\n^ \"Mobile Apps\". Canada Post. Archived from the original on 2011-05-19.\n\n^ a b \"2006 Census of Population\". 15 October 2008.\n\n\n\n\n\n\nCanadian postal codes\n\n\n\n\n\n\n\nNL\n\nNS\n\nPE\n\nNB\n\nQC\n\nON\n\nMB\n\nSK\n\nAB\n\nBC\n\nNU/NT\n\nYT\n\n\nA\n\nB\n\nC\n\nE\n\nG\n\nH\n\nJ\n\nK\n\nL\n\nM\n\nN\n\nP\n\nR\n\nS\n\nT\n\nV\n\nX\n\nY\n\n\n\n\n\n\nRetrieved from \"https://en.wikipedia.org/w/index.php?title=List_of_postal_codes_of_Canada:_M&amp;oldid=920980179\"\nCategories: Communications in OntarioPostal codes in CanadaTorontoOntario-related lists\n\n\n\n\n\n\n\nNavigation menu\n\n\nPersonal tools\n\nNot logged inTalkContributionsCreate accountLog in \n\n\n\nNamespaces\n\nArticleTalk \n\n\n\n\nVariants\n\n\n\n\n\n\n\nViews\n\nReadEditView history \n\n\n\nMore\n\n\n\n\n\nSearch\n\n\n\n \n\n\n\n\n\n\n\nNavigation\n\n\nMain pageContentsFeatured contentCurrent eventsRandom articleDonate to WikipediaWikipedia store \n\n\n\nInteraction\n\n\nHelpAbout WikipediaCommunity portalRecent changesContact page \n\n\n\nTools\n\n\nWhat links hereRelated changesUpload fileSpecial pagesPermanent linkPage informationWikidata itemCite this page \n\n\n\nPrint/export\n\n\nCreate a bookDownload as PDFPrintable version \n\n\n\nLanguages\n\n\nFran\u00e7ais \nEdit links \n\n\n\n\n\n This page was last edited on 13 October 2019, at 03:10\u00a0(UTC).\nText is available under the Creative Commons Attribution-ShareAlike License;\nadditional terms may apply.  By using this site, you agree to the Terms of Use and Privacy Policy. Wikipedia\u00ae is a registered trademark of the Wikimedia Foundation, Inc., a non-profit organization.\n\n\nPrivacy policy\nAbout Wikipedia\nDisclaimers\nContact Wikipedia\nDevelopers\nCookie statement\nMobile view\n\n\n\n \n\n \n\n\n\n(RLQ=window.RLQ||[]).push(function(){mw.config.set({\"wgPageParseReport\":{\"limitreport\":{\"cputime\":\"0.156\",\"walltime\":\"0.193\",\"ppvisitednodes\":{\"value\":574,\"limit\":1000000},\"ppgeneratednodes\":{\"value\":0,\"limit\":1500000},\"postexpandincludesize\":{\"value\":10232,\"limit\":2097152},\"templateargumentsize\":{\"value\":13,\"limit\":2097152},\"expansiondepth\":{\"value\":5,\"limit\":40},\"expensivefunctioncount\":{\"value\":0,\"limit\":500},\"unstrip-depth\":{\"value\":1,\"limit\":20},\"unstrip-size\":{\"value\":9025,\"limit\":5000000},\"entityaccesscount\":{\"value\":0,\"limit\":400},\"timingprofile\":[\"100.00%  108.387      1 -total\",\" 71.89%   77.915      3 Template:Cite_web\",\" 13.42%   14.549      1 Template:Col-2\",\" 11.73%   12.711      1 Template:Col-break\",\"  4.01%    4.349      1 Template:Canadian_postal_codes\",\"  2.99%    3.236      1 Template:Col-begin\",\"  2.37%    2.568      2 Template:Col-end\"]},\"scribunto\":{\"limitreport-timeusage\":{\"value\":\"0.049\",\"limit\":\"10.000\"},\"limitreport-memusage\":{\"value\":1834786,\"limit\":52428800}},\"cachereport\":{\"origin\":\"mw1265\",\"timestamp\":\"20191013031038\",\"ttl\":2592000,\"transientcontent\":false}}});});\n{\"@context\":\"https:\\/\\/schema.org\",\"@type\":\"Article\",\"name\":\"List of postal codes of Canada: M\",\"url\":\"https:\\/\\/en.wikipedia.org\\/wiki\\/List_of_postal_codes_of_Canada:_M\",\"sameAs\":\"http:\\/\\/www.wikidata.org\\/entity\\/Q3248240\",\"mainEntity\":\"http:\\/\\/www.wikidata.org\\/entity\\/Q3248240\",\"author\":{\"@type\":\"Organization\",\"name\":\"Contributors to Wikimedia projects\"},\"publisher\":{\"@type\":\"Organization\",\"name\":\"Wikimedia Foundation, Inc.\",\"logo\":{\"@type\":\"ImageObject\",\"url\":\"https:\\/\\/www.wikimedia.org\\/static\\/images\\/wmf-hor-googpub.png\"}},\"datePublished\":\"2004-03-20T10:02:13Z\",\"dateModified\":\"2019-10-13T03:10:35Z\",\"headline\":\"Wikimedia list article\"}\n(RLQ=window.RLQ||[]).push(function(){mw.config.set({\"wgBackendResponseTime\":97,\"wgHostname\":\"mw1321\"});});\n\n"
                    },
                    "execution_count": 4,
                    "metadata": {},
                    "output_type": "execute_result"
                }
            ],
            "source": "url='https://en.wikipedia.org/wiki/List_of_postal_codes_of_Canada:_M'\nsource = requests.get(url).text\nCanada_data = bsoup(source, 'lxml')\n# Parse the htlm with Beautiful Soup\nretrieved_page=bsoup(Canada_data.text,\"html.parser\")\nretrieved_page"
        },
        {
            "cell_type": "code",
            "execution_count": 5,
            "metadata": {},
            "outputs": [],
            "source": "# creat a new Dataframe\ncolumn_names = ['Postalcode','Borough','Neighborhood']\ntoronto = pd.DataFrame(columns = column_names)"
        },
        {
            "cell_type": "code",
            "execution_count": 6,
            "metadata": {},
            "outputs": [],
            "source": "# loop through to find postcode, borough, neighborhood \ncontent = Canada_data.find('div', class_='mw-parser-output')\ntable = content.table.tbody\npostcode = 0\nborough = 0\nneighborhood = 0\n\nfor tr in table.find_all('tr'):\n    i = 0\n    for td in tr.find_all('td'):\n        if i == 0:\n            postcode = td.text\n            i = i + 1\n        elif i == 1:\n            borough = td.text\n            i = i + 1\n        elif i == 2: \n            neighborhood = td.text.strip('\\n').replace(']','')\n    toronto = toronto.append({'Postalcode': postcode,'Borough': borough,'Neighborhood': neighborhood},ignore_index=True)"
        },
        {
            "cell_type": "markdown",
            "metadata": {},
            "source": "### Data Cleaning"
        },
        {
            "cell_type": "code",
            "execution_count": 7,
            "metadata": {},
            "outputs": [],
            "source": "# clean dataframe \ntoronto = toronto[toronto.Borough!='Not assigned']\ntoronto = toronto[toronto.Borough!= 0]\ntoronto.reset_index(drop = True, inplace = True)\ni = 0\nfor i in range(0,toronto.shape[0]):\n    if toronto.iloc[i][2] == 'Not assigned':\n        toronto.iloc[i][2] = toronto.iloc[i][1]\n        i = i+1"
        },
        {
            "cell_type": "code",
            "execution_count": 8,
            "metadata": {},
            "outputs": [
                {
                    "data": {
                        "text/html": "<div>\n<style scoped>\n    .dataframe tbody tr th:only-of-type {\n        vertical-align: middle;\n    }\n\n    .dataframe tbody tr th {\n        vertical-align: top;\n    }\n\n    .dataframe thead th {\n        text-align: right;\n    }\n</style>\n<table border=\"1\" class=\"dataframe\">\n  <thead>\n    <tr style=\"text-align: right;\">\n      <th></th>\n      <th>Postalcode</th>\n      <th>Borough</th>\n      <th>Neighborhood</th>\n    </tr>\n  </thead>\n  <tbody>\n    <tr>\n      <th>0</th>\n      <td>M1B</td>\n      <td>Scarborough</td>\n      <td>Rouge, Malvern</td>\n    </tr>\n    <tr>\n      <th>1</th>\n      <td>M1C</td>\n      <td>Scarborough</td>\n      <td>Highland Creek, Rouge Hill, Port Union</td>\n    </tr>\n    <tr>\n      <th>2</th>\n      <td>M1E</td>\n      <td>Scarborough</td>\n      <td>Guildwood, Morningside, West Hill</td>\n    </tr>\n    <tr>\n      <th>3</th>\n      <td>M1G</td>\n      <td>Scarborough</td>\n      <td>Woburn</td>\n    </tr>\n    <tr>\n      <th>4</th>\n      <td>M1H</td>\n      <td>Scarborough</td>\n      <td>Cedarbrae</td>\n    </tr>\n  </tbody>\n</table>\n</div>",
                        "text/plain": "  Postalcode      Borough                            Neighborhood\n0        M1B  Scarborough                          Rouge, Malvern\n1        M1C  Scarborough  Highland Creek, Rouge Hill, Port Union\n2        M1E  Scarborough       Guildwood, Morningside, West Hill\n3        M1G  Scarborough                                  Woburn\n4        M1H  Scarborough                               Cedarbrae"
                    },
                    "execution_count": 8,
                    "metadata": {},
                    "output_type": "execute_result"
                }
            ],
            "source": "#grouping of Data\ndf = toronto.groupby(['Postalcode','Borough'])['Neighborhood'].apply(', '.join).reset_index()\ndf.head()"
        },
        {
            "cell_type": "code",
            "execution_count": 9,
            "metadata": {},
            "outputs": [],
            "source": "#Drop \"None\" rows in DataFrame\n#Drop any row which contains 'Not assigned' value\n#All \"Not assigned\" will be replace to 'NaN' using numpy for convenience.\ndf = df.dropna()\nempty = 'Not assigned'\ndf = df[(df.Postalcode != empty ) & (df.Borough != empty) & (df.Neighborhood != empty)]"
        },
        {
            "cell_type": "code",
            "execution_count": 10,
            "metadata": {},
            "outputs": [],
            "source": "def neighborhood_list(grouped):    \n    return ', '.join(sorted(grouped['Neighborhood'].tolist()))\n                    \ngrp = df.groupby(['Postalcode', 'Borough'])\ndf2 = grp.apply(neighborhood_list).reset_index(name='Neighborhood')"
        },
        {
            "cell_type": "code",
            "execution_count": 11,
            "metadata": {},
            "outputs": [
                {
                    "data": {
                        "text/html": "<div>\n<style scoped>\n    .dataframe tbody tr th:only-of-type {\n        vertical-align: middle;\n    }\n\n    .dataframe tbody tr th {\n        vertical-align: top;\n    }\n\n    .dataframe thead th {\n        text-align: right;\n    }\n</style>\n<table border=\"1\" class=\"dataframe\">\n  <thead>\n    <tr style=\"text-align: right;\">\n      <th></th>\n      <th>Postalcode</th>\n      <th>Borough</th>\n      <th>Neighborhood</th>\n    </tr>\n  </thead>\n  <tbody>\n    <tr>\n      <th>0</th>\n      <td>M1B</td>\n      <td>Scarborough</td>\n      <td>Rouge, Malvern</td>\n    </tr>\n    <tr>\n      <th>1</th>\n      <td>M1C</td>\n      <td>Scarborough</td>\n      <td>Highland Creek, Rouge Hill, Port Union</td>\n    </tr>\n    <tr>\n      <th>2</th>\n      <td>M1E</td>\n      <td>Scarborough</td>\n      <td>Guildwood, Morningside, West Hill</td>\n    </tr>\n    <tr>\n      <th>3</th>\n      <td>M1G</td>\n      <td>Scarborough</td>\n      <td>Woburn</td>\n    </tr>\n    <tr>\n      <th>4</th>\n      <td>M1H</td>\n      <td>Scarborough</td>\n      <td>Cedarbrae</td>\n    </tr>\n  </tbody>\n</table>\n</div>",
                        "text/plain": "  Postalcode      Borough                            Neighborhood\n0        M1B  Scarborough                          Rouge, Malvern\n1        M1C  Scarborough  Highland Creek, Rouge Hill, Port Union\n2        M1E  Scarborough       Guildwood, Morningside, West Hill\n3        M1G  Scarborough                                  Woburn\n4        M1H  Scarborough                               Cedarbrae"
                    },
                    "execution_count": 11,
                    "metadata": {},
                    "output_type": "execute_result"
                }
            ],
            "source": "df2.head()"
        },
        {
            "cell_type": "code",
            "execution_count": 12,
            "metadata": {},
            "outputs": [
                {
                    "data": {
                        "text/plain": "(103, 3)"
                    },
                    "execution_count": 12,
                    "metadata": {},
                    "output_type": "execute_result"
                }
            ],
            "source": "df2.shape"
        },
        {
            "cell_type": "markdown",
            "metadata": {},
            "source": "## Peer-graded Assignment: Week 3 Part 2"
        },
        {
            "cell_type": "code",
            "execution_count": 13,
            "metadata": {},
            "outputs": [
                {
                    "name": "stdout",
                    "output_type": "stream",
                    "text": "Solving environment: done\n\n## Package Plan ##\n\n  environment location: /opt/conda/envs/Python36\n\n  added / updated specs: \n    - geopy\n\n\nThe following packages will be downloaded:\n\n    package                    |            build\n    ---------------------------|-----------------\n    geographiclib-1.50         |             py_0          34 KB  conda-forge\n    geopy-1.20.0               |             py_0          57 KB  conda-forge\n    ------------------------------------------------------------\n                                           Total:          91 KB\n\nThe following NEW packages will be INSTALLED:\n\n    geographiclib: 1.50-py_0   conda-forge\n    geopy:         1.20.0-py_0 conda-forge\n\n\nDownloading and Extracting Packages\ngeographiclib-1.50   | 34 KB     | ##################################### | 100% \ngeopy-1.20.0         | 57 KB     | ##################################### | 100% \nPreparing transaction: done\nVerifying transaction: done\nExecuting transaction: done\n"
                }
            ],
            "source": "!conda install -c conda-forge geopy --yes"
        },
        {
            "cell_type": "code",
            "execution_count": 14,
            "metadata": {},
            "outputs": [],
            "source": "import numpy as np\nimport pandas as pd\nfrom geopy.geocoders import Nominatim # convert an address into latitude and longitude values"
        },
        {
            "cell_type": "code",
            "execution_count": 15,
            "metadata": {},
            "outputs": [
                {
                    "data": {
                        "text/html": "<div>\n<style scoped>\n    .dataframe tbody tr th:only-of-type {\n        vertical-align: middle;\n    }\n\n    .dataframe tbody tr th {\n        vertical-align: top;\n    }\n\n    .dataframe thead th {\n        text-align: right;\n    }\n</style>\n<table border=\"1\" class=\"dataframe\">\n  <thead>\n    <tr style=\"text-align: right;\">\n      <th></th>\n      <th>Postalcode</th>\n      <th>Borough</th>\n      <th>Neighborhood</th>\n      <th>Latitude</th>\n      <th>Longitude</th>\n    </tr>\n  </thead>\n  <tbody>\n    <tr>\n      <th>0</th>\n      <td>M1B</td>\n      <td>Scarborough</td>\n      <td>Rouge, Malvern</td>\n      <td>43.806686</td>\n      <td>-79.194353</td>\n    </tr>\n    <tr>\n      <th>1</th>\n      <td>M1C</td>\n      <td>Scarborough</td>\n      <td>Highland Creek, Rouge Hill, Port Union</td>\n      <td>43.784535</td>\n      <td>-79.160497</td>\n    </tr>\n    <tr>\n      <th>2</th>\n      <td>M1E</td>\n      <td>Scarborough</td>\n      <td>Guildwood, Morningside, West Hill</td>\n      <td>43.763573</td>\n      <td>-79.188711</td>\n    </tr>\n    <tr>\n      <th>3</th>\n      <td>M1G</td>\n      <td>Scarborough</td>\n      <td>Woburn</td>\n      <td>43.770992</td>\n      <td>-79.216917</td>\n    </tr>\n    <tr>\n      <th>4</th>\n      <td>M1H</td>\n      <td>Scarborough</td>\n      <td>Cedarbrae</td>\n      <td>43.773136</td>\n      <td>-79.239476</td>\n    </tr>\n  </tbody>\n</table>\n</div>",
                        "text/plain": "  Postalcode      Borough                            Neighborhood   Latitude  \\\n0        M1B  Scarborough                          Rouge, Malvern  43.806686   \n1        M1C  Scarborough  Highland Creek, Rouge Hill, Port Union  43.784535   \n2        M1E  Scarborough       Guildwood, Morningside, West Hill  43.763573   \n3        M1G  Scarborough                                  Woburn  43.770992   \n4        M1H  Scarborough                               Cedarbrae  43.773136   \n\n   Longitude  \n0 -79.194353  \n1 -79.160497  \n2 -79.188711  \n3 -79.216917  \n4 -79.239476  "
                    },
                    "execution_count": 15,
                    "metadata": {},
                    "output_type": "execute_result"
                }
            ],
            "source": "#add Geo-spatial data\ndfll= pd.read_csv(\"http://cocl.us/Geospatial_data\")\ndfll.rename(columns={'Postal Code':'Postalcode'}, inplace=True)\ndfll.set_index(\"Postalcode\")\ndf2.set_index(\"Postalcode\")\ntoronto_data=pd.merge(df2, dfll)\ntoronto_data.head()"
        },
        {
            "cell_type": "code",
            "execution_count": 16,
            "metadata": {},
            "outputs": [
                {
                    "data": {
                        "text/plain": "(103, 5)"
                    },
                    "execution_count": 16,
                    "metadata": {},
                    "output_type": "execute_result"
                }
            ],
            "source": "toronto_data.shape"
        }
    ],
    "metadata": {
        "kernelspec": {
            "display_name": "Python 3.6",
            "language": "python",
            "name": "python3"
        },
        "language_info": {
            "codemirror_mode": {
                "name": "ipython",
                "version": 3
            },
            "file_extension": ".py",
            "mimetype": "text/x-python",
            "name": "python",
            "nbconvert_exporter": "python",
            "pygments_lexer": "ipython3",
            "version": "3.6.8"
        }
    },
    "nbformat": 4,
    "nbformat_minor": 1
}